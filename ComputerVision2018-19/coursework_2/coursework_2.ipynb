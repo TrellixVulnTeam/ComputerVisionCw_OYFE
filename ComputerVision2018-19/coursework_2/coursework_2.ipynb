{
 "cells": [
  {
   "cell_type": "markdown",
   "metadata": {},
   "source": [
    "# Coursework 2: Neural Networks \n",
    "\n",
    "This coursework covers the topics covered in class regarding neural networks for image classification.\n",
    "\n",
    "This coursework includes both coding questions as well as written ones. Please upload the notebook, which contains your code, results and answers as a pdf file onto Cate.\n",
    "\n",
    "Dependencies: If you work on a college computer in the Computing Lab, where Ubuntu 18.04 is installed by default, you can use the following virtual environment for your work, where relevant Python packages are already installed.\n",
    "\n",
    "`source /vol/bitbucket/wbai/virt/computer_vision_ubuntu18.04/bin/activate`\n",
    "\n",
    "Alternatively, you can use pip, pip3 or anaconda etc to install Python packages.\n",
    "\n",
    "**Note 1:** please read the both the text and code comment in this notebook to get an idea what you are supposed to implement.\n",
    "\n",
    "**Note 2:** If you are using the virtual environment in the Computing Lab, please run the following command in the command line before opening jupyter-notebook and importing tensorflow. This will tell tensorflow where the Nvidia CUDA libariries are.\n",
    "\n",
    "`export LD_LIBRARY_PATH=/vol/cuda/9.0.176/lib64/:\"${LD_LIBRARY_PATH}}\"` "
   ]
  },
  {
   "cell_type": "code",
   "execution_count": 1,
   "metadata": {},
   "outputs": [
    {
     "name": "stderr",
     "output_type": "stream",
     "text": [
      "Using TensorFlow backend.\n"
     ]
    }
   ],
   "source": [
    "# Import libraries\n",
    "import numpy as np \n",
    "import matplotlib.pyplot as plt\n",
    "%matplotlib inline\n",
    "import tensorflow as tf \n",
    "import keras\n",
    "from keras.models import Sequential\n",
    "from keras.layers import Dense, Dropout"
   ]
  },
  {
   "cell_type": "markdown",
   "metadata": {},
   "source": [
    "## Question 1 (20 points)\n",
    "\n",
    "Throughout this coursework you will be working with the Fashion-MNIST dataset. If you are interested, you may find relevant information regarding the dataset in this paper.\n",
    "\n",
    "[1] Fashion-MNIST: A novel image dataset for benchmarking machine learning algorithms. Han Xiao, Kashif Rasul, Roland Vollgraf. [arXiv:1708.07747](https://arxiv.org/abs/1708.07747)\n",
    "\n",
    "Be sure that you have the following files in your working directory: data.tar.gz and reader.py. Loading the data can be done as follows:\n",
    "\n",
    "`from reader import get_images\n",
    "(x_train, y_train), (x_test, y_test) = get_images()`\n",
    "\n",
    "The dataset is already split into a set of 60,000 training images and a set of 10,000 test images. The images are of size 28x28 pixels and stored as 784-D vector. So if you would like to visualise the images, you need to reshape the array.\n",
    "\n",
    "There are in total 10 label classes, which are:\n",
    "* 0: T-shirt/top\n",
    "* 1: Trousers\n",
    "* 2: Pullover\n",
    "* 3: Dress\n",
    "* 4: Coat\n",
    "* 5: Sandal\n",
    "* 6: Shirt\n",
    "* 7: Sneaker\n",
    "* 8: Bag\n",
    "* 9: Ankle boot"
   ]
  },
  {
   "cell_type": "markdown",
   "metadata": {},
   "source": [
    "### 1.1 Load data (6 points)\n",
    "Load the dataset and print the dimensions of the training set and the test set."
   ]
  },
  {
   "cell_type": "code",
   "execution_count": 3,
   "metadata": {},
   "outputs": [
    {
     "name": "stdout",
     "output_type": "stream",
     "text": [
      "(60000, 784)\n",
      "(60000,)\n",
      "(10000, 784)\n",
      "(10000,)\n"
     ]
    }
   ],
   "source": [
    "from reader import get_images\n",
    "\n",
    "(x_train, y_train), (x_test, y_test) = get_images()\n",
    "\n",
    "print(x_train.shape)\n",
    "print(y_train.shape)\n",
    "print(x_test.shape)\n",
    "print(y_test.shape)"
   ]
  },
  {
   "cell_type": "markdown",
   "metadata": {},
   "source": [
    "### 1.2 Visualize data (6 points)\n",
    "Visualise 3 training images (T-shirt, trousers and pullover) and 3 test images (dress, coat and sandal)."
   ]
  },
  {
   "cell_type": "code",
   "execution_count": 7,
   "metadata": {},
   "outputs": [
    {
     "data": {
      "image/png": "[encoded data removed]",
      "text/plain": [
       "<Figure size 432x288 with 6 Axes>"
      ]
     },
     "metadata": {
      "needs_background": "light"
     },
     "output_type": "display_data"
    }
   ],
   "source": [
    "testing = [13,6,8]\n",
    "training = [1,2,5]\n",
    "\n",
    "fig = plt.figure()\n",
    "index = 1;\n",
    "for j in training:\n",
    "        img = x_train[j].reshape(28,28)\n",
    "        fig.add_subplot(2, 3, index)\n",
    "        index = index + 1\n",
    "        plt.imshow(img)\n",
    "for i in testing:\n",
    "        img = x_test[i].reshape(28,28)\n",
    "        fig.add_subplot(2, 3, index)\n",
    "        index = index + 1\n",
    "        plt.imshow(img)\n",
    "plt.show()\n",
    "\n"
   ]
  },
  {
   "cell_type": "markdown",
   "metadata": {},
   "source": [
    "### 1.3 Data balance (4 points)\n",
    "Print out the number of training samples for each class."
   ]
  },
  {
   "cell_type": "code",
   "execution_count": 6,
   "metadata": {},
   "outputs": [
    {
     "name": "stdout",
     "output_type": "stream",
     "text": [
      "{9: 6000, 0: 6000, 3: 6000, 2: 6000, 7: 6000, 5: 6000, 1: 6000, 6: 6000, 4: 6000, 8: 6000}\n",
      "{9: 1000, 2: 1000, 1: 1000, 6: 1000, 4: 1000, 5: 1000, 7: 1000, 3: 1000, 8: 1000, 0: 1000}\n"
     ]
    }
   ],
   "source": [
    "trainDict = {}\n",
    "for i in y_train:\n",
    "    if (i not in trainDict):\n",
    "        trainDict[i] = 0\n",
    "    trainDict[i] = trainDict[i] + 1\n",
    "print(trainDict)\n",
    "\n",
    "testDict = {}\n",
    "for i in y_test:\n",
    "    if (i not in testDict):\n",
    "        testDict[i] = 0\n",
    "    testDict[i] = testDict[i] + 1\n",
    "print(testDict)\n",
    "    "
   ]
  },
  {
   "cell_type": "markdown",
   "metadata": {},
   "source": [
    "### 1.4 Discussion (4 points)\n",
    "Is the dataset balanced? What would happen if the dataset is not balanced in the context of image classification? "
   ]
  },
  {
   "cell_type": "code",
   "execution_count": null,
   "metadata": {},
   "outputs": [],
   "source": []
  },
  {
   "cell_type": "markdown",
   "metadata": {},
   "source": [
    "## Question 2 (40 points)\n",
    "\n",
    "Build a neural network and train it with the Fashion-MNIST dataset. Here, we use the keras library, which is a high-level neural network library built upon tensorflow."
   ]
  },
  {
   "cell_type": "code",
   "execution_count": 8,
   "metadata": {},
   "outputs": [],
   "source": [
    "# Convert the label class into a one-hot representation\n",
    "num_classes = len(trainDict)\n",
    "y_train = keras.utils.to_categorical(y_train, num_classes)\n",
    "y_test = keras.utils.to_categorical(y_test, num_classes)"
   ]
  },
  {
   "cell_type": "markdown",
   "metadata": {},
   "source": [
    "### 2.1 Build a multi-layer perceptron, also known as multi-layer fully connected network. You need to define the layers, the loss function, the optimiser and evaluation metric. (30 points)"
   ]
  },
  {
   "cell_type": "code",
   "execution_count": 10,
   "metadata": {},
   "outputs": [
    {
     "name": "stdout",
     "output_type": "stream",
     "text": [
      "_________________________________________________________________\n",
      "Layer (type)                 Output Shape              Param #   \n",
      "=================================================================\n",
      "dense_5 (Dense)              (None, 500)               392500    \n",
      "_________________________________________________________________\n",
      "dense_6 (Dense)              (None, 150)               75150     \n",
      "_________________________________________________________________\n",
      "dense_7 (Dense)              (None, 100)               15100     \n",
      "_________________________________________________________________\n",
      "dense_8 (Dense)              (None, 10)                1010      \n",
      "=================================================================\n",
      "Total params: 483,760\n",
      "Trainable params: 483,760\n",
      "Non-trainable params: 0\n",
      "_________________________________________________________________\n",
      "None\n"
     ]
    }
   ],
   "source": [
    "model = keras.models.Sequential()\n",
    "model.add(Dense(500, activation='relu', input_dim=784))\n",
    "model.add(Dense(150, activation='relu'))\n",
    "model.add(Dense(100, activation='relu'))\n",
    "model.add(Dense(10, activation='softmax'))\n",
    "opt = keras.optimizers.SGD(lr=0.001)\n",
    "model.compile(loss='categorical_crossentropy',\n",
    "              optimizer=opt,\n",
    "              metrics=['accuracy'])\n",
    "print(model.summary())"
   ]
  },
  {
   "cell_type": "markdown",
   "metadata": {},
   "source": [
    "### 2.2 Define the optimisation parameters including the batch size and the number of epochs and then run the optimiser. (10 points)\n",
    "\n",
    "We have tested that for an appropriate network architecture, on a personal laptop and with only CPU, it takes about a few seconds per epoch to train the network. For 100 epochs, it takes about a coffee break's time to finish the training. If you run it on a powerful GPU, it would be even much faster."
   ]
  },
  {
   "cell_type": "code",
   "execution_count": 11,
   "metadata": {},
   "outputs": [
    {
     "name": "stdout",
     "output_type": "stream",
     "text": [
      "Epoch 1/100\n",
      "60000/60000 [==============================] - 8s 137us/step - loss: 8.9334 - acc: 0.4347\n",
      "Epoch 2/100\n",
      "60000/60000 [==============================] - 4s 66us/step - loss: 5.8605 - acc: 0.6249\n",
      "Epoch 3/100\n",
      "60000/60000 [==============================] - 4s 67us/step - loss: 4.7954 - acc: 0.6852\n",
      "Epoch 4/100\n",
      "60000/60000 [==============================] - 4s 63us/step - loss: 4.2569 - acc: 0.7045\n",
      "Epoch 5/100\n",
      "60000/60000 [==============================] - 4s 63us/step - loss: 3.6428 - acc: 0.7060\n",
      "Epoch 6/100\n",
      "60000/60000 [==============================] - 4s 63us/step - loss: 0.8269 - acc: 0.7967\n",
      "Epoch 7/100\n",
      "60000/60000 [==============================] - 4s 64us/step - loss: 0.5220 - acc: 0.8358\n",
      "Epoch 8/100\n",
      "60000/60000 [==============================] - 4s 69us/step - loss: 0.4504 - acc: 0.8517\n",
      "Epoch 9/100\n",
      "60000/60000 [==============================] - 4s 73us/step - loss: 0.4125 - acc: 0.8592\n",
      "Epoch 10/100\n",
      "60000/60000 [==============================] - 4s 68us/step - loss: 0.3852 - acc: 0.8679\n",
      "Epoch 11/100\n",
      "60000/60000 [==============================] - 4s 65us/step - loss: 0.3647 - acc: 0.8725\n",
      "Epoch 12/100\n",
      "60000/60000 [==============================] - 4s 64us/step - loss: 0.3478 - acc: 0.8778\n",
      "Epoch 13/100\n",
      "60000/60000 [==============================] - 4s 65us/step - loss: 0.3347 - acc: 0.8826\n",
      "Epoch 14/100\n",
      "60000/60000 [==============================] - 4s 65us/step - loss: 0.3232 - acc: 0.8863\n",
      "Epoch 15/100\n",
      "60000/60000 [==============================] - 4s 65us/step - loss: 0.3137 - acc: 0.8895\n",
      "Epoch 16/100\n",
      "60000/60000 [==============================] - 4s 65us/step - loss: 0.3044 - acc: 0.8925\n",
      "Epoch 17/100\n",
      "60000/60000 [==============================] - 4s 64us/step - loss: 0.2978 - acc: 0.8944\n",
      "Epoch 18/100\n",
      "60000/60000 [==============================] - 4s 65us/step - loss: 0.2906 - acc: 0.8972\n",
      "Epoch 19/100\n",
      "60000/60000 [==============================] - 4s 65us/step - loss: 0.2847 - acc: 0.8983\n",
      "Epoch 20/100\n",
      "60000/60000 [==============================] - 4s 65us/step - loss: 0.2784 - acc: 0.9008\n",
      "Epoch 21/100\n",
      "60000/60000 [==============================] - 4s 66us/step - loss: 0.2735 - acc: 0.9029\n",
      "Epoch 22/100\n",
      "60000/60000 [==============================] - 4s 66us/step - loss: 0.2681 - acc: 0.9043\n",
      "Epoch 23/100\n",
      "60000/60000 [==============================] - 4s 66us/step - loss: 0.2644 - acc: 0.9056\n",
      "Epoch 24/100\n",
      "60000/60000 [==============================] - 4s 67us/step - loss: 0.2593 - acc: 0.9081\n",
      "Epoch 25/100\n",
      "60000/60000 [==============================] - 4s 67us/step - loss: 0.2559 - acc: 0.9095\n",
      "Epoch 26/100\n",
      "60000/60000 [==============================] - 4s 65us/step - loss: 0.2516 - acc: 0.9107\n",
      "Epoch 27/100\n",
      "60000/60000 [==============================] - 4s 67us/step - loss: 0.2486 - acc: 0.9119\n",
      "Epoch 28/100\n",
      "60000/60000 [==============================] - 4s 68us/step - loss: 0.2436 - acc: 0.9132\n",
      "Epoch 29/100\n",
      "60000/60000 [==============================] - 4s 65us/step - loss: 0.2409 - acc: 0.9134\n",
      "Epoch 30/100\n",
      "60000/60000 [==============================] - 4s 66us/step - loss: 0.2378 - acc: 0.9153\n",
      "Epoch 31/100\n",
      "60000/60000 [==============================] - 4s 67us/step - loss: 0.2338 - acc: 0.9164\n",
      "Epoch 32/100\n",
      "60000/60000 [==============================] - 4s 65us/step - loss: 0.2312 - acc: 0.9183\n",
      "Epoch 33/100\n",
      "60000/60000 [==============================] - 4s 66us/step - loss: 0.2285 - acc: 0.9185\n",
      "Epoch 34/100\n",
      "60000/60000 [==============================] - 4s 66us/step - loss: 0.2262 - acc: 0.9192\n",
      "Epoch 35/100\n",
      "60000/60000 [==============================] - 4s 66us/step - loss: 0.2234 - acc: 0.9206\n",
      "Epoch 36/100\n",
      "60000/60000 [==============================] - 4s 66us/step - loss: 0.2203 - acc: 0.9215\n",
      "Epoch 37/100\n",
      "60000/60000 [==============================] - 4s 66us/step - loss: 0.2173 - acc: 0.9231\n",
      "Epoch 38/100\n",
      "60000/60000 [==============================] - 4s 66us/step - loss: 0.2147 - acc: 0.9245\n",
      "Epoch 39/100\n",
      "60000/60000 [==============================] - 4s 66us/step - loss: 0.2133 - acc: 0.9244\n",
      "Epoch 40/100\n",
      "60000/60000 [==============================] - 4s 66us/step - loss: 0.2097 - acc: 0.9265\n",
      "Epoch 41/100\n",
      "60000/60000 [==============================] - 4s 66us/step - loss: 0.2077 - acc: 0.9266\n",
      "Epoch 42/100\n",
      "60000/60000 [==============================] - 4s 66us/step - loss: 0.2055 - acc: 0.9271\n",
      "Epoch 43/100\n",
      "60000/60000 [==============================] - 4s 66us/step - loss: 0.2034 - acc: 0.9279\n",
      "Epoch 44/100\n",
      "60000/60000 [==============================] - 4s 66us/step - loss: 0.2010 - acc: 0.9293\n",
      "Epoch 45/100\n",
      "60000/60000 [==============================] - 4s 66us/step - loss: 0.1994 - acc: 0.9298\n",
      "Epoch 46/100\n",
      "60000/60000 [==============================] - 4s 66us/step - loss: 0.1967 - acc: 0.9302\n",
      "Epoch 47/100\n",
      "60000/60000 [==============================] - 4s 66us/step - loss: 0.1949 - acc: 0.9317\n",
      "Epoch 48/100\n",
      "60000/60000 [==============================] - 4s 66us/step - loss: 0.1931 - acc: 0.9319\n",
      "Epoch 49/100\n",
      "60000/60000 [==============================] - 4s 66us/step - loss: 0.1908 - acc: 0.9328\n",
      "Epoch 50/100\n",
      "60000/60000 [==============================] - 4s 68us/step - loss: 0.1884 - acc: 0.9340\n",
      "Epoch 51/100\n",
      "60000/60000 [==============================] - 4s 65us/step - loss: 0.1869 - acc: 0.9347\n",
      "Epoch 52/100\n",
      "60000/60000 [==============================] - 4s 71us/step - loss: 0.1840 - acc: 0.9355\n",
      "Epoch 53/100\n",
      "60000/60000 [==============================] - 4s 68us/step - loss: 0.1828 - acc: 0.9356\n",
      "Epoch 54/100\n",
      "60000/60000 [==============================] - 4s 64us/step - loss: 0.1803 - acc: 0.9367\n",
      "Epoch 55/100\n",
      "60000/60000 [==============================] - 4s 65us/step - loss: 0.1790 - acc: 0.9376\n",
      "Epoch 56/100\n",
      "60000/60000 [==============================] - 4s 64us/step - loss: 0.1768 - acc: 0.9383\n",
      "Epoch 57/100\n",
      "60000/60000 [==============================] - 4s 64us/step - loss: 0.1763 - acc: 0.9386\n",
      "Epoch 58/100\n",
      "60000/60000 [==============================] - 4s 66us/step - loss: 0.1744 - acc: 0.9400\n",
      "Epoch 59/100\n",
      "60000/60000 [==============================] - 4s 65us/step - loss: 0.1718 - acc: 0.9404\n",
      "Epoch 60/100\n",
      "60000/60000 [==============================] - 4s 65us/step - loss: 0.1706 - acc: 0.9411\n",
      "Epoch 61/100\n",
      "60000/60000 [==============================] - 4s 65us/step - loss: 0.1690 - acc: 0.9412\n",
      "Epoch 62/100\n",
      "60000/60000 [==============================] - 4s 65us/step - loss: 0.1670 - acc: 0.9417\n",
      "Epoch 63/100\n",
      "60000/60000 [==============================] - 4s 65us/step - loss: 0.1651 - acc: 0.9436\n",
      "Epoch 64/100\n",
      "60000/60000 [==============================] - 4s 65us/step - loss: 0.1638 - acc: 0.9432\n",
      "Epoch 65/100\n",
      "60000/60000 [==============================] - 4s 65us/step - loss: 0.1615 - acc: 0.9443\n",
      "Epoch 66/100\n",
      "60000/60000 [==============================] - 4s 65us/step - loss: 0.1602 - acc: 0.9451\n",
      "Epoch 67/100\n",
      "60000/60000 [==============================] - 4s 65us/step - loss: 0.1590 - acc: 0.9450\n",
      "Epoch 68/100\n",
      "60000/60000 [==============================] - 4s 65us/step - loss: 0.1575 - acc: 0.9459\n",
      "Epoch 69/100\n",
      "60000/60000 [==============================] - 4s 65us/step - loss: 0.1560 - acc: 0.9470\n",
      "Epoch 70/100\n",
      "60000/60000 [==============================] - 4s 70us/step - loss: 0.1544 - acc: 0.9466\n",
      "Epoch 71/100\n",
      "60000/60000 [==============================] - 4s 65us/step - loss: 0.1523 - acc: 0.9482\n",
      "Epoch 72/100\n",
      "60000/60000 [==============================] - 4s 65us/step - loss: 0.1513 - acc: 0.9482\n",
      "Epoch 73/100\n",
      "60000/60000 [==============================] - 4s 63us/step - loss: 0.1496 - acc: 0.9492\n",
      "Epoch 74/100\n",
      "60000/60000 [==============================] - 4s 65us/step - loss: 0.1481 - acc: 0.9496\n",
      "Epoch 75/100\n",
      "60000/60000 [==============================] - 4s 63us/step - loss: 0.1468 - acc: 0.9500\n",
      "Epoch 76/100\n",
      "60000/60000 [==============================] - 4s 64us/step - loss: 0.1456 - acc: 0.9500\n",
      "Epoch 77/100\n",
      "60000/60000 [==============================] - 4s 64us/step - loss: 0.1441 - acc: 0.9512\n",
      "Epoch 78/100\n",
      "60000/60000 [==============================] - 4s 63us/step - loss: 0.1417 - acc: 0.9524\n",
      "Epoch 79/100\n",
      "60000/60000 [==============================] - 4s 63us/step - loss: 0.1407 - acc: 0.9522\n",
      "Epoch 80/100\n",
      "60000/60000 [==============================] - 4s 63us/step - loss: 0.1393 - acc: 0.9526\n",
      "Epoch 81/100\n"
     ]
    },
    {
     "name": "stdout",
     "output_type": "stream",
     "text": [
      "60000/60000 [==============================] - 4s 64us/step - loss: 0.1375 - acc: 0.9544\n",
      "Epoch 82/100\n",
      "60000/60000 [==============================] - 4s 64us/step - loss: 0.1365 - acc: 0.9543\n",
      "Epoch 83/100\n",
      "60000/60000 [==============================] - 4s 64us/step - loss: 0.1361 - acc: 0.9541\n",
      "Epoch 84/100\n",
      "60000/60000 [==============================] - 4s 66us/step - loss: 0.1344 - acc: 0.9552\n",
      "Epoch 85/100\n",
      "60000/60000 [==============================] - 4s 65us/step - loss: 0.1325 - acc: 0.9560\n",
      "Epoch 86/100\n",
      "60000/60000 [==============================] - 4s 64us/step - loss: 0.1312 - acc: 0.9559\n",
      "Epoch 87/100\n",
      "60000/60000 [==============================] - 4s 64us/step - loss: 0.1300 - acc: 0.9564\n",
      "Epoch 88/100\n",
      "60000/60000 [==============================] - 4s 67us/step - loss: 0.1292 - acc: 0.9570\n",
      "Epoch 89/100\n",
      "60000/60000 [==============================] - 4s 63us/step - loss: 0.1269 - acc: 0.9574\n",
      "Epoch 90/100\n",
      "60000/60000 [==============================] - 4s 64us/step - loss: 0.1266 - acc: 0.9576\n",
      "Epoch 91/100\n",
      "60000/60000 [==============================] - 4s 64us/step - loss: 0.1248 - acc: 0.9581\n",
      "Epoch 92/100\n",
      "60000/60000 [==============================] - 4s 68us/step - loss: 0.1236 - acc: 0.9586\n",
      "Epoch 93/100\n",
      "60000/60000 [==============================] - 4s 71us/step - loss: 0.1230 - acc: 0.9589\n",
      "Epoch 94/100\n",
      "60000/60000 [==============================] - 4s 67us/step - loss: 0.1220 - acc: 0.9594\n",
      "Epoch 95/100\n",
      "60000/60000 [==============================] - 4s 64us/step - loss: 0.1210 - acc: 0.9599\n",
      "Epoch 96/100\n",
      "60000/60000 [==============================] - 4s 63us/step - loss: 0.1195 - acc: 0.9604\n",
      "Epoch 97/100\n",
      "60000/60000 [==============================] - 4s 63us/step - loss: 0.1179 - acc: 0.9616\n",
      "Epoch 98/100\n",
      "60000/60000 [==============================] - 4s 64us/step - loss: 0.1167 - acc: 0.9622\n",
      "Epoch 99/100\n",
      "60000/60000 [==============================] - 4s 63us/step - loss: 0.1167 - acc: 0.9614\n",
      "Epoch 100/100\n",
      "60000/60000 [==============================] - 4s 65us/step - loss: 0.1145 - acc: 0.9625\n"
     ]
    },
    {
     "data": {
      "text/plain": [
       "<keras.callbacks.History at 0x7fa19c08eb38>"
      ]
     },
     "execution_count": 11,
     "metadata": {},
     "output_type": "execute_result"
    }
   ],
   "source": [
    "batch_size = 100\n",
    "epochs = 100\n",
    "model.fit(x_train, y_train, epochs, batch_size)"
   ]
  },
  {
   "cell_type": "markdown",
   "metadata": {},
   "source": [
    "## Question 3 (20 points) \n",
    "\n",
    "Evaluate the performance of your network with the test data. \n",
    "Visualize the performance using appropriate metrics and graphs (eg. confusion matrix). \n",
    "Comment on your per class performance and how it could be better."
   ]
  },
  {
   "cell_type": "code",
   "execution_count": 39,
   "metadata": {},
   "outputs": [
    {
     "name": "stdout",
     "output_type": "stream",
     "text": [
      "10000/10000 [==============================] - 0s 18us/step\n"
     ]
    }
   ],
   "source": [
    "# This function is provided for you to display the confusion matrix.\n",
    "# For more information about the confusion matrix, you can read at\n",
    "# https://en.wikipedia.org/wiki/Confusion_matrix\n",
    "def plot_confusion_matrix(cm, classes, normalize=False, title='Confusion matrix', cmap=plt.cm.Blues):\n",
    "    \"\"\"\n",
    "        This function prints and plots the confusion matrix.\n",
    "        \n",
    "        cm: confusion matrix, default to be np.int32 data type\n",
    "        classes: a list of the class labels or class names\n",
    "        normalize: normalize the matrix so that each row amounts to one\n",
    "        cmap: color map\n",
    "    \"\"\"\n",
    "    if normalize:\n",
    "        cm = cm.astype('float') / cm.sum(axis=1)[:, np.newaxis]\n",
    "        print(\"Normalized confusion matrix\")\n",
    "    else:\n",
    "        print('Confusion matrix, without normalization')\n",
    "    print(cm)\n",
    "\n",
    "    plt.imshow(cm, interpolation='nearest', cmap=cmap)\n",
    "    plt.title(title)\n",
    "    plt.colorbar()\n",
    "    tick_marks = np.arange(len(classes))\n",
    "    plt.xticks(tick_marks, classes, rotation=45)\n",
    "    plt.yticks(tick_marks, classes)\n",
    "\n",
    "    fmt = '.2f' if normalize else 'd'\n",
    "    thresh = cm.max() / 2. \n",
    "    for i, j in itertools.product(range(cm.shape[0]), range(cm.shape[1])):\n",
    "        plt.text(j, i, format(cm[i, j], fmt),\n",
    "                 horizontalalignment=\"center\",\n",
    "                 color=\"white\" if cm[i, j] > thresh else \"black\")\n",
    "    plt.ylabel('True label')\n",
    "    plt.xlabel('Predicted label')\n",
    "    plt.tight_layout()\n",
    "\n",
    "labels = []\n",
    "for i in trainDict:\n",
    "    labels.append(i)\n",
    "\n",
    "loss_and_metrics = model.evaluate(x_test, y_test, batch_size=100)\n",
    "\n",
    "\n",
    "# cm = [[0] * 10 for i in range (10)]\n",
    "\n",
    "# plot_confusion_matrix(cm, labels)\n",
    "        "
   ]
  },
  {
   "cell_type": "markdown",
   "metadata": {},
   "source": [
    "### 3.1 Evaluate the classification accuracy on the test set (10 points)"
   ]
  },
  {
   "cell_type": "code",
   "execution_count": 50,
   "metadata": {},
   "outputs": [
    {
     "name": "stdout",
     "output_type": "stream",
     "text": [
      "10000/10000 [==============================] - 0s 18us/step\n",
      "Accuracy is 0.8660999983549118\n"
     ]
    }
   ],
   "source": [
    "loss_and_metrics = model.evaluate(x_test, y_test, batch_size=100)\n",
    "print(\"Accuracy is \" + str(loss_and_metrics[1]))\n",
    "\n",
    "\n",
    "        \n",
    "\n",
    "\n",
    "\n",
    "\n",
    "\n",
    "\n"
   ]
  },
  {
   "cell_type": "markdown",
   "metadata": {},
   "source": [
    "### 3.2 Calculate and plot the confusion matrix (10 points)"
   ]
  },
  {
   "cell_type": "code",
   "execution_count": 51,
   "metadata": {},
   "outputs": [
    {
     "name": "stdout",
     "output_type": "stream",
     "text": [
      "Confusion matrix, without normalization\n",
      "[[838   1  25  28   3   0  93   0  12   0]\n",
      " [  7 961   1  18   6   0   6   0   1   0]\n",
      " [ 20   3 791  19  77   0  89   0   1   0]\n",
      " [ 28  14  19 865  36   0  30   0   8   0]\n",
      " [  2   1 102  36 770   0  84   1   4   0]\n",
      " [  0   1   0   1   1 939   5  30   4  19]\n",
      " [156   1  90  32  60   0 641   0  20   0]\n",
      " [  0   0   0   0   0  18   0 949   2  31]\n",
      " [  3   1   2   9   5   4   7   6 963   0]\n",
      " [  0   0   0   0   0  17   2  36   1 944]]\n"
     ]
    },
    {
     "data": {
      "image/png": "[encoded data removed]",
      "text/plain": [
       "<Figure size 432x288 with 2 Axes>"
      ]
     },
     "metadata": {
      "needs_background": "light"
     },
     "output_type": "display_data"
    }
   ],
   "source": [
    "from sklearn.metrics import confusion_matrix\n",
    "import itertools\n",
    "\n",
    "classes = model.predict_classes(x_test, batch_size=100)\n",
    "cm = confusion_matrix(y_test.argmax(axis = 1), predict)\n",
    "plot_confusion_matrix(cm, labels)"
   ]
  },
  {
   "cell_type": "markdown",
   "metadata": {},
   "source": [
    "## Question 4 (20 points)\n",
    "Take two photos, one of your clothes or shoes that belongs to one of 10 classes, the other that does not belong to any class.\n",
    "\n",
    "Use either Python or other software (Photoshop, Gimp, or any image editer) to convert the photos into grayscale, crop the region of interest and reshape into the size of 28x28.\n",
    "\n",
    "### 4.1 Load and visualise your own images (6 points)"
   ]
  },
  {
   "cell_type": "code",
   "execution_count": 108,
   "metadata": {},
   "outputs": [
    {
     "data": {
      "image/png": "[encoded data removed]",
      "text/plain": [
       "<Figure size 432x288 with 2 Axes>"
      ]
     },
     "metadata": {
      "needs_background": "light"
     },
     "output_type": "display_data"
    }
   ],
   "source": [
    "fig = plt.figure()\n",
    "img = Image.open('bag.jpg').convert('L').resize((28,28), Image.ANTIALIAS)\n",
    "fig.add_subplot(1, 2, 1)\n",
    "plt.imshow(img)\n",
    "\n",
    "img2 = Image.open('phone.png').convert('L').resize((28,28), Image.ANTIALIAS)\n",
    "fig.add_subplot(1, 2, 2)    \n",
    "plt.imshow(img2)\n",
    "plt.show()\n",
    "\n",
    "\n",
    "\n"
   ]
  },
  {
   "cell_type": "markdown",
   "metadata": {},
   "source": [
    "### 4.2 Test your network on the two images and show the classification results (10 points)"
   ]
  },
  {
   "cell_type": "code",
   "execution_count": 111,
   "metadata": {},
   "outputs": [
    {
     "ename": "SyntaxError",
     "evalue": "invalid syntax (<ipython-input-111-617081602cea>, line 12)",
     "output_type": "error",
     "traceback": [
      "\u001b[0;36m  File \u001b[0;32m\"<ipython-input-111-617081602cea>\"\u001b[0;36m, line \u001b[0;32m12\u001b[0m\n\u001b[0;31m    switch(num):\u001b[0m\n\u001b[0m                ^\u001b[0m\n\u001b[0;31mSyntaxError\u001b[0m\u001b[0;31m:\u001b[0m invalid syntax\n"
     ]
    }
   ],
   "source": [
    "img_data = img.getdata()\n",
    "img_as_list = np.asarray(img_data, dtype=float)\n",
    "img_as_list = img_as_list.reshape(1,784)\n",
    "\n",
    "classes = model.predict_classes(img_as_list, batch_size=100)\n",
    "\n",
    "img_data2 = img2.getdata()\n",
    "img_as_list2 = np.asarray(img_data2, dtype=float)\n",
    "img_as_list2 = img_as_list2.reshape(1,784)\n",
    "\n",
    "# def indentifyClasses(num):\n",
    "#     switch(num):\n",
    "#         case 0:\n",
    "#             return \"T-shirt\"\n",
    "#         case 1:\n",
    "#             return \"Trousers\"\n",
    "#         case 2:\n",
    "#             return \"Pullover\"\n",
    "#         case 3:\n",
    "#             return \"Dress\"\n",
    "#         case 4:\n",
    "#             return \"Coat\"\n",
    "#         case 5:\n",
    "#             return \"Sandal\"\n",
    "#         case 6:\n",
    "#             return \"Shirt\"\n",
    "#         case 7:\n",
    "#             return \"Sneaker\"\n",
    "#         case 8:\n",
    "#             return \"Bag\"\n",
    "#         case 9:\n",
    "#             return \"Ankle boot\"\n",
    "\n",
    "# 0: T-shirt/top\n",
    "# 1: Trousers\n",
    "# 2: Pullover\n",
    "# 3: Dress\n",
    "# 4: Coat\n",
    "# 5: Sandal\n",
    "# 6: Shirt\n",
    "# 7: Sneaker\n",
    "# 8: Bag\n",
    "# 9: Ankle boot\n",
    "\n",
    "classes = model.predict_classes(img_as_list, batch_size=100)\n",
    "print(\"The identified class for image one is \" + str(identifyClasses(classes[0])) )\n",
    "classes2 = model.predict_classes(img_as_list2, batch_size=100)\n",
    "print(\"The identified class for image two is \" + str(identifyClasses(classes2[0])) )\n",
    "\n",
    "\n"
   ]
  },
  {
   "cell_type": "markdown",
   "metadata": {},
   "source": [
    "### 4.3 Discuss the classification results and provide one method to improve real life performance of the network (4 points)"
   ]
  },
  {
   "cell_type": "code",
   "execution_count": null,
   "metadata": {},
   "outputs": [],
   "source": []
  },
  {
   "cell_type": "markdown",
   "metadata": {},
   "source": [
    "## 5. Survey\n",
    "How long did the coursework take you to solve? "
   ]
  },
  {
   "cell_type": "markdown",
   "metadata": {},
   "source": []
  },
  {
   "cell_type": "code",
   "execution_count": null,
   "metadata": {},
   "outputs": [],
   "source": [
    "4 hours"
   ]
  }
 ],
 "metadata": {
  "kernelspec": {
   "display_name": "Python 3",
   "language": "python",
   "name": "python3"
  },
  "language_info": {
   "codemirror_mode": {
    "name": "ipython",
    "version": 3
   },
   "file_extension": ".py",
   "mimetype": "text/x-python",
   "name": "python",
   "nbconvert_exporter": "python",
   "pygments_lexer": "ipython3",
   "version": "3.6.6"
  }
 },
 "nbformat": 4,
 "nbformat_minor": 2
}
